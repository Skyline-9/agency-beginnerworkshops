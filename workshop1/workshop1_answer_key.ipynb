{
 "cells": [
  {
   "cell_type": "markdown",
   "metadata": {},
   "source": [
    "# Workshop 1 Answer Key"
   ]
  },
  {
   "cell_type": "code",
   "execution_count": 1,
   "metadata": {},
   "outputs": [],
   "source": [
    "import numpy as np"
   ]
  },
  {
   "cell_type": "markdown",
   "metadata": {},
   "source": [
    "## Numpy Arrays\n",
    "\n",
    "In order to implement a Neural Network, we will need a convenient way to perform matrix operations. \n",
    "\n",
    "Thankfully, Numpy provides a simple way to create and work with matrices, in the form ndarrays (n-dimensional arrays). We can use ndarrays to represent vectors, matrices, or even tensors (higher dimensional matrices). Before we get into creating a Neural Network, let's briefly learn the basics of ndarrays. We'll start by creating a simple array."
   ]
  },
  {
   "cell_type": "code",
   "execution_count": 2,
   "metadata": {},
   "outputs": [
    {
     "name": "stdout",
     "output_type": "stream",
     "text": [
      "[1 2 3 4]\n"
     ]
    }
   ],
   "source": [
    "A = np.array([1, 2, 3, 4])\n",
    "\n",
    "print(A)"
   ]
  },
  {
   "cell_type": "markdown",
   "metadata": {},
   "source": [
    "Remember, we can think of ndarrays similarly to the way we think of matrices or vectors. What do you think are the dimensions of A? Is it 4 x 1? Something else? Discuss among your group."
   ]
  },
  {
   "cell_type": "code",
   "execution_count": 3,
   "metadata": {},
   "outputs": [
    {
     "name": "stdout",
     "output_type": "stream",
     "text": [
      "Dimensions of A: (4,)\n"
     ]
    }
   ],
   "source": [
    "# We can find the dimensions of A like so:\n",
    "dim_A = A.shape\n",
    "\n",
    "print(\"Dimensions of A: \" + str(dim_A))"
   ]
  },
  {
   "cell_type": "markdown",
   "metadata": {},
   "source": [
    "As it turns out, A is neither 1 x 4 or 4 x 1. Instead, it is a one-dimensional array, or flattened array, of dimenson 4. Whenever we want to represent vectors in Numpy, we will use one-dimensional arrays. For operations like matrix multiplication, a one-dimensional array can fulfill the role of either a 4 x 1 or 1 x 4 matrix, so they are quite versatile."
   ]
  },
  {
   "cell_type": "markdown",
   "metadata": {},
   "source": [
    "You can index into one-dimensional arrays to grab individual indices or slices. You can also modify entries of arrays:"
   ]
  },
  {
   "cell_type": "code",
   "execution_count": 4,
   "metadata": {},
   "outputs": [
    {
     "name": "stdout",
     "output_type": "stream",
     "text": [
      "1\n",
      "[2 3]\n",
      "Before modifying: [1 2 3 4]\n",
      "After modifying: [1 2 7 4]\n"
     ]
    }
   ],
   "source": [
    "x = A[0]\n",
    "print(x)\n",
    "\n",
    "a_slice = A[1:3]\n",
    "print(a_slice)\n",
    "\n",
    "print(\"Before modifying: {}\".format(A))\n",
    "A[2] = 7\n",
    "print(\"After modifying: {}\".format(A))"
   ]
  },
  {
   "cell_type": "markdown",
   "metadata": {},
   "source": [
    "Let's make another array."
   ]
  },
  {
   "cell_type": "code",
   "execution_count": 5,
   "metadata": {},
   "outputs": [
    {
     "name": "stdout",
     "output_type": "stream",
     "text": [
      "[[ 1  2  3  4]\n",
      " [ 5  6  7  8]\n",
      " [ 9 10 11 12]\n",
      " [13 14 15 16]]\n"
     ]
    }
   ],
   "source": [
    "B = np.array([ [1, 2, 3, 4],\n",
    "               [5, 6, 7, 8],\n",
    "               [9, 10, 11, 12],\n",
    "               [13, 14, 15, 16] ])\n",
    "\n",
    "print(B)"
   ]
  },
  {
   "cell_type": "markdown",
   "metadata": {},
   "source": [
    "What are the dimensions of B? Find the dimensions and print them below."
   ]
  },
  {
   "cell_type": "code",
   "execution_count": 6,
   "metadata": {},
   "outputs": [
    {
     "name": "stdout",
     "output_type": "stream",
     "text": [
      "(4, 4)\n"
     ]
    }
   ],
   "source": [
    "### TODO: print the dimensions of B below\n",
    "\n",
    "print(B.shape)\n",
    "\n",
    "###"
   ]
  },
  {
   "cell_type": "markdown",
   "metadata": {},
   "source": [
    "B is a two-dimensional array. These are useful for representing matrices, and they behave similarly to matrices in consideration to most operations."
   ]
  },
  {
   "cell_type": "markdown",
   "metadata": {},
   "source": [
    "We can also index into two-dimensional arrays. However, we have more options, as there are two dimensions of indices to index into as opposed to one. Look at some of the following examples:"
   ]
  },
  {
   "cell_type": "code",
   "execution_count": 7,
   "metadata": {},
   "outputs": [
    {
     "name": "stdout",
     "output_type": "stream",
     "text": [
      "A single entry: 3\n",
      "The first column: [ 1  5  9 13]\n",
      "The first row: [1 2 3 4]\n",
      "The second row: [5 6 7 8]\n",
      "A crop from B:\n",
      "[[2 3]\n",
      " [6 7]]\n"
     ]
    }
   ],
   "source": [
    "y = B[0, 2]\n",
    "print(\"A single entry: {}\".format(y))\n",
    "\n",
    "column1 = B[:, 0]\n",
    "print(\"The first column: {}\".format(column1))\n",
    "\n",
    "row1 = B[0, :]\n",
    "row2 = B[1]    # we can opt to leave out the second index, numpy will fetch everything in the 2nd dimension\n",
    "print(\"The first row: {}\".format(row1))\n",
    "print(\"The second row: {}\".format(row2))\n",
    "\n",
    "crop = B[0:2, 1:3]\n",
    "print(\"A crop from B:\\n{}\".format(crop))"
   ]
  },
  {
   "cell_type": "code",
   "execution_count": 8,
   "metadata": {},
   "outputs": [
    {
     "name": "stdout",
     "output_type": "stream",
     "text": [
      "[ 7 11 15]\n"
     ]
    }
   ],
   "source": [
    "### TODO: print one slice containing the last three entries of the third column of B\n",
    "\n",
    "print(B[1:, 2])\n",
    "\n",
    "###"
   ]
  },
  {
   "cell_type": "markdown",
   "metadata": {},
   "source": [
    "Observe that indexing individual entries will yield scalars; indexing rows or columns will yield one-dimensional arrays; and indexing crops or submatrices will yield a two-dimensional array.\n",
    "\n",
    "We see that scalar entries make up one-dimensional arrays, which can then be used to make up two-dimensional arrays. It is also true that two-dimensional arrays can be used to make up three-dimensional arrays. In general, n-dimensional arrays can be thought of as a collection of (n - 1)-dimensional arrays."
   ]
  },
  {
   "cell_type": "markdown",
   "metadata": {},
   "source": [
    "We can represent matrix multiplication and matrix-vector multiplication with np.dot()."
   ]
  },
  {
   "cell_type": "code",
   "execution_count": 9,
   "metadata": {},
   "outputs": [
    {
     "name": "stdout",
     "output_type": "stream",
     "text": [
      "[126 140 154 168]\n",
      "\n",
      "[ 42  98 154 210]\n"
     ]
    }
   ],
   "source": [
    "right_product = np.dot(A, B)\n",
    "print(right_product)\n",
    "print()\n",
    "\n",
    "left_product = np.dot(B, A)\n",
    "print(left_product)"
   ]
  },
  {
   "cell_type": "markdown",
   "metadata": {},
   "source": [
    "Similar to matrix multiplication, the order in which you enter arguments into np.dot() is very important."
   ]
  },
  {
   "cell_type": "code",
   "execution_count": 10,
   "metadata": {},
   "outputs": [
    {
     "name": "stdout",
     "output_type": "stream",
     "text": [
      "[[ 68  74  80]\n",
      " [188 206 224]\n",
      " [308 338 368]]\n",
      "[[  1  68  74  80]\n",
      " [  5 188 206 224]\n",
      " [  9 308 338 368]\n",
      " [ 13  14  15  16]]\n"
     ]
    }
   ],
   "source": [
    "### TODO: Print out the matrix product between the upper-leftmost 3 x 3 crop of B and the \n",
    "###       lower-rightmost 3 x 3 crop of B.\n",
    "###       Then, replace the upper-rightmost 3 x 3 section of B with that product, and print B.\n",
    "\n",
    "product = B[0:3, 0:3] @ B[1:4, 1:4]\n",
    "print(product)\n",
    "\n",
    "B[0:3, 1:4] = product\n",
    "print(B)\n",
    "\n",
    "###"
   ]
  },
  {
   "cell_type": "markdown",
   "metadata": {},
   "source": [
    "There are many ways to instantiate ndarrays in numpy. Here are two common ways:"
   ]
  },
  {
   "cell_type": "code",
   "execution_count": 11,
   "metadata": {},
   "outputs": [
    {
     "name": "stdout",
     "output_type": "stream",
     "text": [
      "[[0. 0.]\n",
      " [0. 0.]]\n",
      "\n",
      "[[0.6012382  0.74348489 0.83962783]\n",
      " [0.97865506 0.7966632  0.3733905 ]\n",
      " [0.47891023 0.25816803 0.65228563]\n",
      " [0.54221673 0.5477541  0.91071657]]\n"
     ]
    }
   ],
   "source": [
    "zero_array = np.zeros((2, 2))\n",
    "print(zero_array)\n",
    "print()\n",
    "\n",
    "random_array = np.random.rand(4, 3)  # fills array with values between 0 and 1\n",
    "print(random_array)"
   ]
  },
  {
   "cell_type": "markdown",
   "metadata": {},
   "source": [
    "Both of these ways of instantiating arrays involve entering the desired dimensions into their respective functions. However, np.zeros() requires the dimensions to be contained inside parentheses, while np.random.rand() wants the dimensions to be entered as separate arguments. These small details are always difficult to remember, so you may often have to refer to the [numpy documentation](https://docs.scipy.org/doc/numpy/reference/index.html \"Numpy Documentation\")."
   ]
  },
  {
   "cell_type": "code",
   "execution_count": 12,
   "metadata": {},
   "outputs": [
    {
     "name": "stdout",
     "output_type": "stream",
     "text": [
      "[[ 10.74416854 291.34667634 319.167852   346.98902765]\n",
      " [ 13.85618446 443.56735228 485.96134125 528.35533022]\n",
      " [ 13.06618431 300.83644146 329.17386613 357.5112908 ]\n",
      " [  8.34807815 136.04838673 148.85303117 161.6576756 ]\n",
      " [ 11.32138133 263.50176435 288.54230262 313.58284089]]\n"
     ]
    }
   ],
   "source": [
    "### TODO: Constuct a random 5 x 4 array. Matrix multiply (use np.dot()) this with B and then print the result.\n",
    "###       Remember, order matters!\n",
    "\n",
    "C = np.random.rand(5, 4)\n",
    "print(C @ B)\n",
    "\n",
    "###"
   ]
  },
  {
   "cell_type": "code",
   "execution_count": null,
   "metadata": {},
   "outputs": [],
   "source": []
  }
 ],
 "metadata": {
  "kernelspec": {
   "display_name": "Python 3 (ipykernel)",
   "language": "python",
   "name": "python3"
  },
  "language_info": {
   "codemirror_mode": {
    "name": "ipython",
    "version": 3
   },
   "file_extension": ".py",
   "mimetype": "text/x-python",
   "name": "python",
   "nbconvert_exporter": "python",
   "pygments_lexer": "ipython3",
   "version": "3.10.9"
  }
 },
 "nbformat": 4,
 "nbformat_minor": 2
}
