{
 "cells": [
  {
   "cell_type": "markdown",
   "metadata": {},
   "source": [
    "# Workshop 1: Using Numpy to Implement Forward Pass."
   ]
  },
  {
   "cell_type": "code",
   "execution_count": 1,
   "metadata": {},
   "outputs": [],
   "source": [
    "import numpy as np"
   ]
  },
  {
   "cell_type": "markdown",
   "metadata": {},
   "source": [
    "## Numpy Arrays\n",
    "\n",
    "In order to implement a Neural Network, we will need a convenient way to perform matrix operations. \n",
    "\n",
    "Thankfully, Numpy provides a simple way to create and work with matrices, in the form ndarrays (n-dimensional arrays). We can use ndarrays to represent vectors, matrices, or even tensors (higher dimensional matrices). Before we get into creating a Neural Network, let's briefly learn the basics of ndarrays. We'll start by creating a simple array."
   ]
  },
  {
   "cell_type": "code",
   "execution_count": 2,
   "metadata": {},
   "outputs": [
    {
     "name": "stdout",
     "output_type": "stream",
     "text": [
      "[1 2 3 4]\n"
     ]
    }
   ],
   "source": [
    "A = np.array([1, 2, 3, 4])\n",
    "\n",
    "print(A)"
   ]
  },
  {
   "cell_type": "markdown",
   "metadata": {},
   "source": [
    "Remember, we can think of ndarrays similarly to the way we think of matrices or vectors. What do you think are the dimensions of A? Is it 4 x 1? Something else? Discuss among your group."
   ]
  },
  {
   "cell_type": "code",
   "execution_count": 3,
   "metadata": {},
   "outputs": [
    {
     "name": "stdout",
     "output_type": "stream",
     "text": [
      "Dimensions of A: (4,)\n"
     ]
    }
   ],
   "source": [
    "# We can find the dimensions of A like so:\n",
    "dim_A = A.shape\n",
    "\n",
    "print(\"Dimensions of A: \" + str(dim_A))"
   ]
  },
  {
   "cell_type": "markdown",
   "metadata": {},
   "source": [
    "As it turns out, A is neither 1 x 4 or 4 x 1. Instead, it is a one-dimensional array, or flattened array, of dimenson 4. Whenever we want to represent vectors in Numpy, we will use one-dimensional arrays. For operations like matrix multiplication, a one-dimensional array can fulfill the role of either a 4 x 1 or 1 x 4 matrix, so they are quite versatile."
   ]
  },
  {
   "cell_type": "markdown",
   "metadata": {},
   "source": [
    "You can index into one-dimensional arrays to grab individual indices or slices. You can also modify entries of arrays:"
   ]
  },
  {
   "cell_type": "code",
   "execution_count": 5,
   "metadata": {},
   "outputs": [
    {
     "name": "stdout",
     "output_type": "stream",
     "text": [
      "1\n",
      "[2 7]\n",
      "Before modifying: [1 2 7 4]\n",
      "After modifying: [1 2 7 4]\n"
     ]
    }
   ],
   "source": [
    "x = A[0]\n",
    "print(x)\n",
    "\n",
    "a_slice = A[1:3]\n",
    "print(a_slice)\n",
    "\n",
    "print(\"Before modifying: {}\".format(A))\n",
    "A[2] = 7\n",
    "print(\"After modifying: {}\".format(A))"
   ]
  },
  {
   "cell_type": "markdown",
   "metadata": {},
   "source": [
    "Let's make another array."
   ]
  },
  {
   "cell_type": "code",
   "execution_count": 6,
   "metadata": {},
   "outputs": [
    {
     "name": "stdout",
     "output_type": "stream",
     "text": [
      "[[ 1  2  3  4]\n",
      " [ 5  6  7  8]\n",
      " [ 9 10 11 12]\n",
      " [13 14 15 16]]\n"
     ]
    }
   ],
   "source": [
    "B = np.array([ [1, 2, 3, 4],\n",
    "               [5, 6, 7, 8],\n",
    "               [9, 10, 11, 12],\n",
    "               [13, 14, 15, 16] ])\n",
    "\n",
    "print(B)"
   ]
  },
  {
   "cell_type": "markdown",
   "metadata": {},
   "source": [
    "What are the dimensions of B? Find the dimensions and print them below."
   ]
  },
  {
   "cell_type": "code",
   "execution_count": 7,
   "metadata": {},
   "outputs": [
    {
     "name": "stdout",
     "output_type": "stream",
     "text": [
      "(4, 4)\n"
     ]
    }
   ],
   "source": [
    "### TODO: print the dimensions of B below\n",
    "print(B.shape)\n",
    "###"
   ]
  },
  {
   "cell_type": "markdown",
   "metadata": {},
   "source": [
    "B is a two-dimensional array. These are useful for representing matrices, and they behave similarly to matrices in consideration to most operations."
   ]
  },
  {
   "cell_type": "markdown",
   "metadata": {},
   "source": [
    "We can also index into two-dimensional arrays. However, we have more options, as there are two dimensions of indices to index into as opposed to one. Look at some of the following examples:"
   ]
  },
  {
   "cell_type": "code",
   "execution_count": 8,
   "metadata": {},
   "outputs": [
    {
     "name": "stdout",
     "output_type": "stream",
     "text": [
      "A single entry: 3\n",
      "The first column: [ 1  5  9 13]\n",
      "The first row: [1 2 3 4]\n",
      "The second row: [5 6 7 8]\n",
      "A crop from B:\n",
      "[[2 3]\n",
      " [6 7]]\n"
     ]
    }
   ],
   "source": [
    "y = B[0, 2]\n",
    "print(\"A single entry: {}\".format(y))\n",
    "\n",
    "column1 = B[:, 0]\n",
    "print(\"The first column: {}\".format(column1))\n",
    "\n",
    "row1 = B[0, :]\n",
    "row2 = B[1]    # we can opt to leave out the second index, numpy will fetch everything in the 2nd dimension\n",
    "print(\"The first row: {}\".format(row1))\n",
    "print(\"The second row: {}\".format(row2))\n",
    "\n",
    "crop = B[0:2, 1:3]\n",
    "print(\"A crop from B:\\n{}\".format(crop))"
   ]
  },
  {
   "cell_type": "code",
   "execution_count": 13,
   "metadata": {},
   "outputs": [
    {
     "name": "stdout",
     "output_type": "stream",
     "text": [
      "[ 7 11 15]\n",
      "[ 7 11 15]\n"
     ]
    }
   ],
   "source": [
    "### TODO: print one slice containing the last three entries of the third column of B\n",
    "print(B[-3:, 2])\n",
    "print(B[1:, 2])\n",
    "###"
   ]
  },
  {
   "cell_type": "markdown",
   "metadata": {},
   "source": [
    "Observe that indexing individual entries will yield scalars; indexing rows or columns will yield one-dimensional arrays; and indexing crops or submatrices will yield a two-dimensional array.\n",
    "\n",
    "We see that scalar entries make up one-dimensional arrays, which can then be used to make up two-dimensional arrays. It is also true that two-dimensional arrays can be used to make up three-dimensional arrays. In general, n-dimensional arrays can be thought of as a collection of (n - 1)-dimensional arrays."
   ]
  },
  {
   "cell_type": "markdown",
   "metadata": {},
   "source": [
    "We can represent matrix multiplication and matrix-vector multiplication with the `@` operator or `np.dot()`."
   ]
  },
  {
   "cell_type": "code",
   "execution_count": 14,
   "metadata": {},
   "outputs": [
    {
     "name": "stdout",
     "output_type": "stream",
     "text": [
      "[1 2 7 4]\n",
      "[[ 1  2  3  4]\n",
      " [ 5  6  7  8]\n",
      " [ 9 10 11 12]\n",
      " [13 14 15 16]]\n"
     ]
    }
   ],
   "source": [
    "print(A)\n",
    "print(B)"
   ]
  },
  {
   "cell_type": "code",
   "execution_count": 16,
   "metadata": {},
   "outputs": [
    {
     "name": "stdout",
     "output_type": "stream",
     "text": [
      "[126 140 154 168]\n",
      "\n",
      "[ 42  98 154 210]\n"
     ]
    }
   ],
   "source": [
    "right_product = A @ B\n",
    "# The following line is equivalent\n",
    "# right_product = np.dot(A, B)\n",
    "print(right_product)\n",
    "print()\n",
    "\n",
    "left_product = B @ A\n",
    "# The follwing line is equivalent\n",
    "# left_product = np.dot(B, A)\n",
    "print(left_product)"
   ]
  },
  {
   "cell_type": "markdown",
   "metadata": {},
   "source": [
    "Similar to matrix multiplication, the order in which you enter arguments into `@` or `np.dot()` is very important."
   ]
  },
  {
   "cell_type": "code",
   "execution_count": 21,
   "metadata": {},
   "outputs": [
    {
     "name": "stdout",
     "output_type": "stream",
     "text": [
      "[[ 1  2  3  4]\n",
      " [ 5  6  7  8]\n",
      " [ 9 10 11 12]\n",
      " [13 14 15 16]]\n",
      "[[ 1  2  3]\n",
      " [ 5  6  7]\n",
      " [ 9 10 11]]\n",
      "[[ 6  7  8]\n",
      " [10 11 12]\n",
      " [14 15 16]]\n",
      "[[ 6  7  8]\n",
      " [10 11 12]\n",
      " [14 15 16]]\n",
      "[[  1  68  74  80]\n",
      " [  5 188 206 224]\n",
      " [  9 308 338 368]\n",
      " [ 13  14  15  16]]\n"
     ]
    }
   ],
   "source": [
    "### TODO: Print out the matrix product between the upper-leftmost 3 x 3 crop of B \n",
    "###       and the lower-rightmost 3 x 3 crop of B.\n",
    "###       Then, replace the upper-rightmost 3 x 3 section of B with that product, and print B\n",
    "print(B)\n",
    "print(B[:3, :3])\n",
    "print(B[-3:, -3:])\n",
    "print(B[1:, 1:])  # Same as above\n",
    "\n",
    "temp = B[:3, :3] @ B[-3:, -3:]\n",
    "B[:3, 1:4] = temp\n",
    "\n",
    "print(B)\n",
    "\n",
    "###"
   ]
  },
  {
   "cell_type": "markdown",
   "metadata": {},
   "source": [
    "Here is where numpy really shines"
   ]
  },
  {
   "cell_type": "code",
   "execution_count": 29,
   "metadata": {},
   "outputs": [],
   "source": [
    "test_a_arr = np.random.randn(10**7)\n",
    "test_b_arr = np.random.randn(10**7)\n",
    "\n",
    "# copy the vectors as lists\n",
    "test_a_list = list(test_a_arr)\n",
    "test_b_list = list(test_b_arr)\n",
    "\n",
    "def python_matmul(matrix1,matrix2):\n",
    "    results = []\n",
    "    try:\n",
    "        for i in range(len(matrix1)):\n",
    "            rows = []\n",
    "            for j in range(len(matrix2[0])):\n",
    "                item = 0\n",
    "                for k in range(len(matrix1[0])):\n",
    "                    item += matrix1[i][k] * matrix2[k][j]\n",
    "                rows.append(item)\n",
    "            results.append(rows)\n",
    "        return results\n",
    "    except:\n",
    "        return \"These matrices aren't compatible.\""
   ]
  },
  {
   "cell_type": "code",
   "execution_count": 30,
   "metadata": {},
   "outputs": [
    {
     "name": "stdout",
     "output_type": "stream",
     "text": [
      "10 ms ± 1.2 ms per loop (mean ± std. dev. of 7 runs, 10 loops each)\n"
     ]
    }
   ],
   "source": [
    "%timeit -n 10 test_a_arr @ test_b_arr"
   ]
  },
  {
   "cell_type": "code",
   "execution_count": 31,
   "metadata": {},
   "outputs": [
    {
     "name": "stdout",
     "output_type": "stream",
     "text": [
      "1.75 µs ± 277 ns per loop (mean ± std. dev. of 7 runs, 10 loops each)\n"
     ]
    }
   ],
   "source": [
    "%timeit -n 10 python_matmul(test_a_list, test_b_list)"
   ]
  },
  {
   "cell_type": "markdown",
   "metadata": {},
   "source": [
    "There are many ways to instantiate ndarrays in numpy. Here are two common ways:"
   ]
  },
  {
   "cell_type": "code",
   "execution_count": 36,
   "metadata": {},
   "outputs": [
    {
     "name": "stdout",
     "output_type": "stream",
     "text": [
      "[[0. 0.]\n",
      " [0. 0.]]\n",
      "\n",
      "[[0.64791036 0.20114457 0.69889363]\n",
      " [0.87069151 0.46340352 0.90797783]\n",
      " [0.96307451 0.68254943 0.54090394]\n",
      " [0.9593027  0.04327166 0.77401833]]\n"
     ]
    }
   ],
   "source": [
    "zero_array = np.zeros((2, 2))\n",
    "# Note that this is essentially the following\n",
    "zero_array = np.zeros(shape=(2, 2))\n",
    "\n",
    "print(zero_array)\n",
    "print()\n",
    "\n",
    "random_array = np.random.rand(4, 3)  # fills array with values between 0 and 1\n",
    "print(random_array)"
   ]
  },
  {
   "cell_type": "markdown",
   "metadata": {},
   "source": [
    "Both of these ways of instantiating arrays involve entering the desired dimensions into their respective functions. However, `np.zeros()` requires the dimensions to be contained inside parentheses (it expects a tuple, specifically), while `np.random.rand()` wants the dimensions to be entered as separate arguments. These small details are always difficult to remember, so you may often have to refer to the [numpy documentation](https://docs.scipy.org/doc/numpy/reference/index.html \"Numpy Documentation\")."
   ]
  },
  {
   "cell_type": "code",
   "execution_count": 37,
   "metadata": {},
   "outputs": [
    {
     "name": "stdout",
     "output_type": "stream",
     "text": [
      "[[ 15.15400012 115.24121604 125.72229766 136.20337928]\n",
      " [ 15.9875471  247.19124284 270.34729936 293.50335588]\n",
      " [ 10.41693007 369.49865825 405.04402787 440.58939749]\n",
      " [ 16.76016684 364.77245336 399.76758043 434.76270749]\n",
      " [ 10.3762827  182.0449465  199.28897216 216.53299782]]\n"
     ]
    }
   ],
   "source": [
    "### TODO: Constuct a random 5 x 4 array. Matrix multiply this with B and then print the result.\n",
    "###       Remember, order matters!\n",
    "###\n",
    "\n",
    "our_random_array = np.random.rand(5, 4)\n",
    "print(our_random_array @ B)"
   ]
  },
  {
   "cell_type": "code",
   "execution_count": null,
   "metadata": {},
   "outputs": [],
   "source": []
  }
 ],
 "metadata": {
  "kernelspec": {
   "display_name": "Python 3 (ipykernel)",
   "language": "python",
   "name": "python3"
  },
  "language_info": {
   "codemirror_mode": {
    "name": "ipython",
    "version": 3
   },
   "file_extension": ".py",
   "mimetype": "text/x-python",
   "name": "python",
   "nbconvert_exporter": "python",
   "pygments_lexer": "ipython3",
   "version": "3.10.9"
  }
 },
 "nbformat": 4,
 "nbformat_minor": 2
}
